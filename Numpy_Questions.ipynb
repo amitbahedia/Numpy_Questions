{
  "cells": [
    {
      "cell_type": "code",
      "execution_count": null,
      "id": "c8e940ec-b67c-4d15-8d77-0534afe73133",
      "metadata": {
        "id": "c8e940ec-b67c-4d15-8d77-0534afe73133"
      },
      "outputs": [],
      "source": [
        "## What is a Python library? Why do we use Python libraries?"
      ]
    },
    {
      "cell_type": "markdown",
      "id": "5ab95136-cb6c-4158-82b7-b57305e8e35e",
      "metadata": {
        "id": "5ab95136-cb6c-4158-82b7-b57305e8e35e"
      },
      "source": [
        "Python library is basically a collection of modules . Each library comprises multiple modules, which are smaller units containing functions, classes, and other building blocks. Think of modules as specific tools within the toolbox.\n",
        "\n",
        "We use Python libraries for below reasons\n",
        "\n",
        "1. Boost productivity\n",
        "2. Improve code quality\n",
        "3. Expand your capabilities\n",
        "\n",
        "And many more other things"
      ]
    },
    {
      "cell_type": "code",
      "execution_count": null,
      "id": "2c0a2837-ba20-4139-9586-5fb685e939bd",
      "metadata": {
        "id": "2c0a2837-ba20-4139-9586-5fb685e939bd"
      },
      "outputs": [],
      "source": [
        "## What is the difference between Numpy array and List?"
      ]
    },
    {
      "cell_type": "markdown",
      "id": "8470b54b-25b6-4623-8029-7fad5541d461",
      "metadata": {
        "id": "8470b54b-25b6-4623-8029-7fad5541d461"
      },
      "source": [
        "The major differenes between Numpy Array and List are :\n",
        "\n",
        "1. Numpy array can store the values of single data types(ex - All integrers or floats) while list can store values of multiple data types\n",
        "\n",
        "2. Memory usage is more in list as compare to Numpy Array\n",
        "\n",
        "3. Lists can be one-dimensional, while NumPy arrays can be multi-dimensional (matrices, etc.)"
      ]
    },
    {
      "cell_type": "markdown",
      "source": [
        "3. Find the shape, size and dimension of the following array?\n",
        "[[1, 2, 3, 4]\n",
        "[5, 6, 7, 8],\n",
        "[9, 10, 11, 12]]"
      ],
      "metadata": {
        "id": "v0Llnvam31I6"
      },
      "id": "v0Llnvam31I6"
    },
    {
      "cell_type": "code",
      "source": [
        "import numpy as np\n",
        "\n",
        "input_arr = np.array([[1,2,3,4], [5,6,7,8], [9,10,11,12]])"
      ],
      "metadata": {
        "id": "z9lot32032YV"
      },
      "id": "z9lot32032YV",
      "execution_count": null,
      "outputs": []
    },
    {
      "cell_type": "code",
      "source": [
        "input_arr"
      ],
      "metadata": {
        "colab": {
          "base_uri": "https://localhost:8080/"
        },
        "id": "6VUvKJ2v4bsl",
        "outputId": "490198f3-7c8b-4668-bf3e-4a465df2b57a"
      },
      "id": "6VUvKJ2v4bsl",
      "execution_count": null,
      "outputs": [
        {
          "output_type": "execute_result",
          "data": {
            "text/plain": [
              "array([[ 1,  2,  3,  4],\n",
              "       [ 5,  6,  7,  8],\n",
              "       [ 9, 10, 11, 12]])"
            ]
          },
          "metadata": {},
          "execution_count": 3
        }
      ]
    },
    {
      "cell_type": "code",
      "source": [
        "input_arr.shape"
      ],
      "metadata": {
        "colab": {
          "base_uri": "https://localhost:8080/"
        },
        "id": "jqc5mJmx4fAU",
        "outputId": "3697ea78-7402-4a5a-a741-4f39c900ef84"
      },
      "id": "jqc5mJmx4fAU",
      "execution_count": null,
      "outputs": [
        {
          "output_type": "execute_result",
          "data": {
            "text/plain": [
              "(3, 4)"
            ]
          },
          "metadata": {},
          "execution_count": 4
        }
      ]
    },
    {
      "cell_type": "code",
      "source": [
        "input_arr.size"
      ],
      "metadata": {
        "colab": {
          "base_uri": "https://localhost:8080/"
        },
        "id": "rnObj5x34ks8",
        "outputId": "89cefc02-1eab-4770-d020-1847bfa9b8a0"
      },
      "id": "rnObj5x34ks8",
      "execution_count": null,
      "outputs": [
        {
          "output_type": "execute_result",
          "data": {
            "text/plain": [
              "12"
            ]
          },
          "metadata": {},
          "execution_count": 5
        }
      ]
    },
    {
      "cell_type": "code",
      "source": [
        "input_arr.ndim"
      ],
      "metadata": {
        "colab": {
          "base_uri": "https://localhost:8080/"
        },
        "id": "xVNIUVBc4n0k",
        "outputId": "ad90d093-b124-407d-8a6c-40ca6c754ecc"
      },
      "id": "xVNIUVBc4n0k",
      "execution_count": null,
      "outputs": [
        {
          "output_type": "execute_result",
          "data": {
            "text/plain": [
              "2"
            ]
          },
          "metadata": {},
          "execution_count": 6
        }
      ]
    },
    {
      "cell_type": "markdown",
      "source": [
        "4. Write python code to access the first row of the following array?\n",
        "[[1, 2, 3, 4]\n",
        "[5, 6, 7, 8],\n",
        "[9, 10, 11, 12]]"
      ],
      "metadata": {
        "id": "jbOSsoLZ401p"
      },
      "id": "jbOSsoLZ401p"
    },
    {
      "cell_type": "code",
      "source": [
        "input_arr = np.array([[1,2,3,4], [5,6,7,8], [9,10,11,12]])\n",
        "\n",
        "input_arr\n",
        "\n",
        "input_arr[0]\n"
      ],
      "metadata": {
        "colab": {
          "base_uri": "https://localhost:8080/"
        },
        "id": "9URMH4dJ41dj",
        "outputId": "3f3d9c53-8597-46f8-9582-50621cdc76c5"
      },
      "id": "9URMH4dJ41dj",
      "execution_count": null,
      "outputs": [
        {
          "output_type": "execute_result",
          "data": {
            "text/plain": [
              "array([1, 2, 3, 4])"
            ]
          },
          "metadata": {},
          "execution_count": 13
        }
      ]
    },
    {
      "cell_type": "code",
      "source": [],
      "metadata": {
        "colab": {
          "base_uri": "https://localhost:8080/"
        },
        "id": "Z3A9YtlV5AH7",
        "outputId": "db07a3d0-2594-456d-9dfe-8c07d935a00b"
      },
      "id": "Z3A9YtlV5AH7",
      "execution_count": null,
      "outputs": [
        {
          "output_type": "execute_result",
          "data": {
            "text/plain": [
              "4"
            ]
          },
          "metadata": {},
          "execution_count": 9
        }
      ]
    },
    {
      "cell_type": "markdown",
      "source": [
        "5. How do you access the element at the third row and fourth column from the given numpy array?\n",
        "[[1, 2, 3, 4]\n",
        "[5, 6, 7, 8],\n",
        "[9, 10, 11, 12]]"
      ],
      "metadata": {
        "id": "s1TOBmRD6a33"
      },
      "id": "s1TOBmRD6a33"
    },
    {
      "cell_type": "code",
      "source": [
        "input_arr = np.array([[1,2,3,4], [5,6,7,8], [9,10,11,12]])\n",
        "\n",
        "input_arr\n",
        "\n",
        "third_row = input_arr[2]\n",
        "fourth_column = input_arr[:, 3]\n",
        "\n",
        "print(third_row)\n",
        "print(fourth_column)"
      ],
      "metadata": {
        "colab": {
          "base_uri": "https://localhost:8080/"
        },
        "id": "kghQGwqT6fIz",
        "outputId": "3c2d72b0-176d-406f-f936-b20e038bf47c"
      },
      "id": "kghQGwqT6fIz",
      "execution_count": null,
      "outputs": [
        {
          "output_type": "stream",
          "name": "stdout",
          "text": [
            "[ 9 10 11 12]\n",
            "[ 4  8 12]\n"
          ]
        }
      ]
    },
    {
      "cell_type": "markdown",
      "source": [
        "6. Write code to extract all odd-indexed elements from the given numpy array?\n",
        "[[1, 2, 3, 4]\n",
        "[5, 6, 7, 8],\n",
        "[9, 10, 11, 12]]"
      ],
      "metadata": {
        "id": "VEwsSu0H9ZW-"
      },
      "id": "VEwsSu0H9ZW-"
    },
    {
      "cell_type": "code",
      "source": [
        "input_arr = np.array([[1,2,3,4], [5,6,7,8], [9,10,11,12]])\n",
        "input_arr\n",
        "odd_indexedelements = input_arr[:, 1::2]\n",
        "odd_indexedelements\n",
        "\n"
      ],
      "metadata": {
        "colab": {
          "base_uri": "https://localhost:8080/"
        },
        "id": "YO5jPrxH9nxL",
        "outputId": "8debaeae-76fe-49bf-d4ab-06c6da0f847e"
      },
      "id": "YO5jPrxH9nxL",
      "execution_count": null,
      "outputs": [
        {
          "output_type": "execute_result",
          "data": {
            "text/plain": [
              "array([[ 2,  4],\n",
              "       [ 6,  8],\n",
              "       [10, 12]])"
            ]
          },
          "metadata": {},
          "execution_count": 27
        }
      ]
    },
    {
      "cell_type": "code",
      "source": [
        "## 7. How can you generate a random 3x3 matrix with values between 0 and 1"
      ],
      "metadata": {
        "id": "JvHV09Ae-rhC"
      },
      "id": "JvHV09Ae-rhC",
      "execution_count": null,
      "outputs": []
    },
    {
      "cell_type": "code",
      "source": [
        "import numpy as np\n",
        "\n",
        "random_matrix = np.random.rand(3,3)\n",
        "random_matrix"
      ],
      "metadata": {
        "colab": {
          "base_uri": "https://localhost:8080/"
        },
        "id": "4o4WzXIDKtSe",
        "outputId": "772d4d9b-46d0-4341-f4b7-98496be9f159"
      },
      "id": "4o4WzXIDKtSe",
      "execution_count": null,
      "outputs": [
        {
          "output_type": "execute_result",
          "data": {
            "text/plain": [
              "array([[0.30295233, 0.92598863, 0.68502261],\n",
              "       [0.07560939, 0.60596768, 0.14208588],\n",
              "       [0.50199109, 0.67959654, 0.95435997]])"
            ]
          },
          "metadata": {},
          "execution_count": 43
        }
      ]
    },
    {
      "cell_type": "code",
      "source": [
        "## Describe the difference between np.random.rand and np.random.randn?"
      ],
      "metadata": {
        "id": "KiKqGtS6LXKl"
      },
      "id": "KiKqGtS6LXKl",
      "execution_count": null,
      "outputs": []
    },
    {
      "cell_type": "markdown",
      "source": [
        "The primary difference between np.random.rand and np.random.randn lies in the probability distribution they draw random numbers\n",
        "\n",
        "np.random.rand draws samples from a uniform distribution in the range [0, 1). This means all values between 0 (exclusive) and 1 (exclusive) have an equal probability of being generated.\n",
        "\n",
        "np.random.randn raws samples from a standard normal distribution. This is a bell-shaped curve centered at 0, where values closer to the center are more likely to be generated than those further away.\n",
        "\n",
        "\n"
      ],
      "metadata": {
        "id": "N1PrGCXJQlER"
      },
      "id": "N1PrGCXJQlER"
    },
    {
      "cell_type": "code",
      "source": [
        "arr1 = np.random.rand(3,4)"
      ],
      "metadata": {
        "id": "kKwx1CejNikU"
      },
      "id": "kKwx1CejNikU",
      "execution_count": null,
      "outputs": []
    },
    {
      "cell_type": "code",
      "source": [
        "arr1"
      ],
      "metadata": {
        "colab": {
          "base_uri": "https://localhost:8080/"
        },
        "id": "G-CL-bgLNqIV",
        "outputId": "c6adcaaa-56e5-45ec-9ead-d37b54478f0a"
      },
      "id": "G-CL-bgLNqIV",
      "execution_count": null,
      "outputs": [
        {
          "output_type": "execute_result",
          "data": {
            "text/plain": [
              "array([[0.6277052 , 0.03775248, 0.9429245 , 0.81978731],\n",
              "       [0.57550042, 0.40808551, 0.16275821, 0.18226851],\n",
              "       [0.02633086, 0.39591883, 0.43028004, 0.60563549]])"
            ]
          },
          "metadata": {},
          "execution_count": 47
        }
      ]
    },
    {
      "cell_type": "code",
      "source": [
        "arr2 = np.random.randn(3,4)"
      ],
      "metadata": {
        "id": "LMyqFhAPNrPd"
      },
      "id": "LMyqFhAPNrPd",
      "execution_count": null,
      "outputs": []
    },
    {
      "cell_type": "code",
      "source": [
        "arr2\n"
      ],
      "metadata": {
        "colab": {
          "base_uri": "https://localhost:8080/"
        },
        "id": "5_8J4RACNxBU",
        "outputId": "c4293341-b0a0-4189-c73b-cb68a1e63e05"
      },
      "id": "5_8J4RACNxBU",
      "execution_count": null,
      "outputs": [
        {
          "output_type": "execute_result",
          "data": {
            "text/plain": [
              "array([[-1.43699498, -1.70286655,  0.65122937, -1.8364467 ],\n",
              "       [ 0.04824541, -0.38002314, -0.49231925,  1.23525483],\n",
              "       [ 0.19990952,  0.86374233,  0.26152627,  0.86317445]])"
            ]
          },
          "metadata": {},
          "execution_count": 49
        }
      ]
    },
    {
      "cell_type": "markdown",
      "source": [
        "9. Write code to increase the dimension of the following array?\n",
        "\n",
        "[[1, 2, 3, 4]\n",
        "\n",
        "[5, 6, 7, 8],\n",
        "\n",
        "[9, 10, 11, 12]]"
      ],
      "metadata": {
        "id": "4e-ruTI1UIZf"
      },
      "id": "4e-ruTI1UIZf"
    },
    {
      "cell_type": "code",
      "source": [
        "input_arr = np.array([[1,2,3,4], [5,6,7,8], [9,10,11,12]])\n",
        "new_arr = np.expand_dims(input_arr, axis = 1)\n",
        "new_arr"
      ],
      "metadata": {
        "colab": {
          "base_uri": "https://localhost:8080/"
        },
        "id": "zwCFkBxKUJVi",
        "outputId": "77c9ca79-032f-4648-8b5c-649727b2cc45"
      },
      "id": "zwCFkBxKUJVi",
      "execution_count": null,
      "outputs": [
        {
          "output_type": "execute_result",
          "data": {
            "text/plain": [
              "array([[[ 1,  2,  3,  4]],\n",
              "\n",
              "       [[ 5,  6,  7,  8]],\n",
              "\n",
              "       [[ 9, 10, 11, 12]]])"
            ]
          },
          "metadata": {},
          "execution_count": 55
        }
      ]
    },
    {
      "cell_type": "code",
      "source": [
        "new_arr.ndim"
      ],
      "metadata": {
        "colab": {
          "base_uri": "https://localhost:8080/"
        },
        "id": "bb1M9b0cVYIy",
        "outputId": "55215226-d1a0-4528-a466-0c67d4dd879c"
      },
      "id": "bb1M9b0cVYIy",
      "execution_count": null,
      "outputs": [
        {
          "output_type": "execute_result",
          "data": {
            "text/plain": [
              "3"
            ]
          },
          "metadata": {},
          "execution_count": 56
        }
      ]
    },
    {
      "cell_type": "markdown",
      "source": [
        "10. How to transpose the following array in NumPy?\n",
        "\n",
        "[[1, 2, 3, 4]\n",
        "\n",
        "[5, 6, 7, 8],\n",
        "\n",
        "[9, 10, 11, 12]]"
      ],
      "metadata": {
        "id": "wfD4IiZ8WRdH"
      },
      "id": "wfD4IiZ8WRdH"
    },
    {
      "cell_type": "code",
      "source": [
        "input_arr = np.array([[1,2,3,4], [5,6,7,8], [9,10,11,12]])\n",
        "new_arr = input_arr.T"
      ],
      "metadata": {
        "id": "fJJ420dPWSPJ"
      },
      "id": "fJJ420dPWSPJ",
      "execution_count": null,
      "outputs": []
    },
    {
      "cell_type": "code",
      "source": [
        "new_arr"
      ],
      "metadata": {
        "colab": {
          "base_uri": "https://localhost:8080/"
        },
        "id": "6sc_ylcQWbVi",
        "outputId": "956998b9-371c-4fa2-8d60-f7f5c2aa5d84"
      },
      "id": "6sc_ylcQWbVi",
      "execution_count": null,
      "outputs": [
        {
          "output_type": "execute_result",
          "data": {
            "text/plain": [
              "array([[ 1,  5,  9],\n",
              "       [ 2,  6, 10],\n",
              "       [ 3,  7, 11],\n",
              "       [ 4,  8, 12]])"
            ]
          },
          "metadata": {},
          "execution_count": 58
        }
      ]
    },
    {
      "cell_type": "code",
      "source": [],
      "metadata": {
        "id": "jbIs5yIBWcnh"
      },
      "id": "jbIs5yIBWcnh",
      "execution_count": null,
      "outputs": []
    },
    {
      "cell_type": "markdown",
      "source": [
        "11. Consider the following matrix:\n",
        "\n",
        "Matrix A2 [[1, 2, 3, 4] [5, 6, 7, 8],[9, 10, 11, 12]]\n",
        "\n",
        "Matrix B2 [[1, 2, 3, 4] [5, 6, 7, 8],[9, 10, 11, 12]]\n",
        "\n"
      ],
      "metadata": {
        "id": "ey0Z3ogKCWmk"
      },
      "id": "ey0Z3ogKCWmk"
    },
    {
      "cell_type": "code",
      "source": [
        "##  Index wise multiplication\n",
        "import numpy as np\n",
        "matrix_A2 = np.array([[1,2,3,4], [5,6,7,8], [9,10,11,12]])\n",
        "matrix_B2 = np.array([[1,2,3,4], [5,6,7,8], [9,10,11,12]])\n",
        "\n",
        "Mul_Index_Wise = matrix_A2 * matrix_B2\n",
        "Mul_Index_Wise\n"
      ],
      "metadata": {
        "colab": {
          "base_uri": "https://localhost:8080/"
        },
        "id": "MWAT4A7aCm9e",
        "outputId": "1dc7717b-c0ae-4f98-953d-181b83d1b592"
      },
      "id": "MWAT4A7aCm9e",
      "execution_count": 2,
      "outputs": [
        {
          "output_type": "execute_result",
          "data": {
            "text/plain": [
              "array([[  1,   4,   9,  16],\n",
              "       [ 25,  36,  49,  64],\n",
              "       [ 81, 100, 121, 144]])"
            ]
          },
          "metadata": {},
          "execution_count": 2
        }
      ]
    },
    {
      "cell_type": "code",
      "source": [
        "## Matrix Multiplication"
      ],
      "metadata": {
        "id": "Usnk-RL2EGFe"
      },
      "id": "Usnk-RL2EGFe",
      "execution_count": 3,
      "outputs": []
    },
    {
      "cell_type": "code",
      "source": [
        "Mul_matrix = np.matmul(matrix_A2.T, matrix_B2)\n",
        "Mul_matrix"
      ],
      "metadata": {
        "colab": {
          "base_uri": "https://localhost:8080/"
        },
        "id": "qFVKqMUMEb2E",
        "outputId": "beade787-43ac-4546-a132-bfd34fa33fff"
      },
      "id": "qFVKqMUMEb2E",
      "execution_count": 6,
      "outputs": [
        {
          "output_type": "execute_result",
          "data": {
            "text/plain": [
              "array([[107, 122, 137, 152],\n",
              "       [122, 140, 158, 176],\n",
              "       [137, 158, 179, 200],\n",
              "       [152, 176, 200, 224]])"
            ]
          },
          "metadata": {},
          "execution_count": 6
        }
      ]
    },
    {
      "cell_type": "code",
      "source": [
        "print(matrix_A2.shape)\n",
        "print(matrix_B2.shape)"
      ],
      "metadata": {
        "colab": {
          "base_uri": "https://localhost:8080/"
        },
        "id": "EkHV00a4FWOe",
        "outputId": "86c0e97d-b399-4d3e-ae97-e8b37844a075"
      },
      "id": "EkHV00a4FWOe",
      "execution_count": 9,
      "outputs": [
        {
          "output_type": "stream",
          "name": "stdout",
          "text": [
            "(3, 4)\n",
            "(3, 4)\n"
          ]
        }
      ]
    },
    {
      "cell_type": "code",
      "source": [
        "##  Add both the matrics"
      ],
      "metadata": {
        "id": "qB8OtGmtGRw4"
      },
      "id": "qB8OtGmtGRw4",
      "execution_count": 10,
      "outputs": []
    },
    {
      "cell_type": "code",
      "source": [
        "Add_mat = matrix_A2 + matrix_B2\n",
        "Add_mat"
      ],
      "metadata": {
        "colab": {
          "base_uri": "https://localhost:8080/"
        },
        "id": "2kZcea_jGfFj",
        "outputId": "219540f3-56fe-4ec2-90c2-22bf0ce04258"
      },
      "id": "2kZcea_jGfFj",
      "execution_count": 11,
      "outputs": [
        {
          "output_type": "execute_result",
          "data": {
            "text/plain": [
              "array([[ 2,  4,  6,  8],\n",
              "       [10, 12, 14, 16],\n",
              "       [18, 20, 22, 24]])"
            ]
          },
          "metadata": {},
          "execution_count": 11
        }
      ]
    },
    {
      "cell_type": "code",
      "source": [
        "## Subtract Matrix B from A\n",
        "\n",
        "Output = matrix_B2 - matrix_B2\n",
        "Output"
      ],
      "metadata": {
        "colab": {
          "base_uri": "https://localhost:8080/"
        },
        "id": "J1Olz2_8Goia",
        "outputId": "14c06a76-c46a-4072-eba6-30798a242e8d"
      },
      "id": "J1Olz2_8Goia",
      "execution_count": 12,
      "outputs": [
        {
          "output_type": "execute_result",
          "data": {
            "text/plain": [
              "array([[0, 0, 0, 0],\n",
              "       [0, 0, 0, 0],\n",
              "       [0, 0, 0, 0]])"
            ]
          },
          "metadata": {},
          "execution_count": 12
        }
      ]
    },
    {
      "cell_type": "code",
      "source": [
        "## Divide Matrix B By A"
      ],
      "metadata": {
        "id": "-0TAux7UG9Sz"
      },
      "id": "-0TAux7UG9Sz",
      "execution_count": 13,
      "outputs": []
    },
    {
      "cell_type": "code",
      "source": [
        "Div_Result = matrix_B2 / matrix_B2\n",
        "Div_Result"
      ],
      "metadata": {
        "colab": {
          "base_uri": "https://localhost:8080/"
        },
        "id": "lT6_A_rdHDZD",
        "outputId": "86740c7c-a8a1-46bf-80c6-dc1183d9f55a"
      },
      "id": "lT6_A_rdHDZD",
      "execution_count": 14,
      "outputs": [
        {
          "output_type": "execute_result",
          "data": {
            "text/plain": [
              "array([[1., 1., 1., 1.],\n",
              "       [1., 1., 1., 1.],\n",
              "       [1., 1., 1., 1.]])"
            ]
          },
          "metadata": {},
          "execution_count": 14
        }
      ]
    },
    {
      "cell_type": "code",
      "source": [
        "## Which function in Numpy can be used to swap the byte order of an array?\n"
      ],
      "metadata": {
        "id": "wpmxuUZYIYAq"
      },
      "id": "wpmxuUZYIYAq",
      "execution_count": null,
      "outputs": []
    },
    {
      "cell_type": "markdown",
      "source": [
        "The byteswap() function in NumPy is used to swap the byte order of an array.\n",
        "\n",
        "It's like switching between big-endian (storing most significant byte first) and little-endian (storing least significant byte first) representations."
      ],
      "metadata": {
        "id": "MMHHVDJjJAp6"
      },
      "id": "MMHHVDJjJAp6"
    },
    {
      "cell_type": "code",
      "source": [
        "## What does the np.reshape function do, and how is it used?"
      ],
      "metadata": {
        "id": "b04EHDnMKI5Z"
      },
      "id": "b04EHDnMKI5Z",
      "execution_count": null,
      "outputs": []
    },
    {
      "cell_type": "markdown",
      "source": [
        "It reorganizes the elements of an array into a new shape without modifying the data itself.\n",
        "It's like rearranging the same items in a box into different rows and columns."
      ],
      "metadata": {
        "id": "5Oqad2OVKhm9"
      },
      "id": "5Oqad2OVKhm9"
    },
    {
      "cell_type": "code",
      "source": [
        "arr = np.arange(12)\n",
        "arr"
      ],
      "metadata": {
        "colab": {
          "base_uri": "https://localhost:8080/"
        },
        "id": "eAcCHwpcKo75",
        "outputId": "b0341cc8-fed2-46a2-eef2-f8b42ba1afa7"
      },
      "id": "eAcCHwpcKo75",
      "execution_count": 18,
      "outputs": [
        {
          "output_type": "execute_result",
          "data": {
            "text/plain": [
              "array([ 0,  1,  2,  3,  4,  5,  6,  7,  8,  9, 10, 11])"
            ]
          },
          "metadata": {},
          "execution_count": 18
        }
      ]
    },
    {
      "cell_type": "code",
      "source": [
        "new_array = arr.reshape(3,4)\n",
        "new_array"
      ],
      "metadata": {
        "colab": {
          "base_uri": "https://localhost:8080/"
        },
        "id": "eKqMglyJKzHB",
        "outputId": "2d987297-ef71-4376-cc3f-6f77ddb16734"
      },
      "id": "eKqMglyJKzHB",
      "execution_count": 19,
      "outputs": [
        {
          "output_type": "execute_result",
          "data": {
            "text/plain": [
              "array([[ 0,  1,  2,  3],\n",
              "       [ 4,  5,  6,  7],\n",
              "       [ 8,  9, 10, 11]])"
            ]
          },
          "metadata": {},
          "execution_count": 19
        }
      ]
    },
    {
      "cell_type": "code",
      "source": [
        "# What is broadcasting in Numpy?\n"
      ],
      "metadata": {
        "id": "WfK1Kra0K9dh"
      },
      "id": "WfK1Kra0K9dh",
      "execution_count": null,
      "outputs": []
    },
    {
      "cell_type": "markdown",
      "source": [
        "\n",
        "In NumPy, broadcasting refers to a powerful feature that allows arrays of different shapes to be used in mathematical operations together. It essentially replicates the smaller array across the larger array to make their dimensions compatible for element-wise calculations."
      ],
      "metadata": {
        "id": "-0-UniJxMty9"
      },
      "id": "-0-UniJxMty9"
    },
    {
      "cell_type": "code",
      "source": [
        "# For Example\n",
        "arr1 = np.array([1,2,3,4,5,6])\n",
        "arr2 = 5\n",
        "res = arr1 + arr2\n",
        "res\n"
      ],
      "metadata": {
        "colab": {
          "base_uri": "https://localhost:8080/"
        },
        "id": "ryxJsm3tMwX4",
        "outputId": "dc913602-3214-4238-e62e-3d4293428063"
      },
      "id": "ryxJsm3tMwX4",
      "execution_count": 21,
      "outputs": [
        {
          "output_type": "execute_result",
          "data": {
            "text/plain": [
              "array([ 6,  7,  8,  9, 10, 11])"
            ]
          },
          "metadata": {},
          "execution_count": 21
        }
      ]
    },
    {
      "cell_type": "code",
      "source": [
        "arr1 = np.array([[1,2], [3,4]])\n",
        "arr2 = np.array([1,4])\n",
        "res = arr1 @ arr2\n",
        "res"
      ],
      "metadata": {
        "colab": {
          "base_uri": "https://localhost:8080/"
        },
        "id": "wSF7op3yNAgh",
        "outputId": "1f60e506-d977-460f-a473-f98a39fd73b1"
      },
      "id": "wSF7op3yNAgh",
      "execution_count": 28,
      "outputs": [
        {
          "output_type": "execute_result",
          "data": {
            "text/plain": [
              "array([ 9, 19])"
            ]
          },
          "metadata": {},
          "execution_count": 28
        }
      ]
    },
    {
      "cell_type": "code",
      "source": [],
      "metadata": {
        "id": "-wSufQ7qNYA0"
      },
      "id": "-wSufQ7qNYA0",
      "execution_count": null,
      "outputs": []
    }
  ],
  "metadata": {
    "kernelspec": {
      "display_name": "Python 3 (ipykernel)",
      "language": "python",
      "name": "python3"
    },
    "language_info": {
      "codemirror_mode": {
        "name": "ipython",
        "version": 3
      },
      "file_extension": ".py",
      "mimetype": "text/x-python",
      "name": "python",
      "nbconvert_exporter": "python",
      "pygments_lexer": "ipython3",
      "version": "3.10.8"
    },
    "colab": {
      "provenance": []
    }
  },
  "nbformat": 4,
  "nbformat_minor": 5
}